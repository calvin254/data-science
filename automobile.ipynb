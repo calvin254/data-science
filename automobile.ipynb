{
 "cells": [
  {
   "cell_type": "code",
   "execution_count": 1,
   "id": "fe9eeed0",
   "metadata": {},
   "outputs": [],
   "source": [
    "import pandas as pd"
   ]
  },
  {
   "cell_type": "code",
   "execution_count": 4,
   "id": "da56c7bc",
   "metadata": {},
   "outputs": [
    {
     "name": "stdout",
     "output_type": "stream",
     "text": [
      "   index      company   body-style  wheel-base  length engine-type  \\\n",
      "0      0  alfa-romero  convertible        38.6  1688.0        dohc   \n",
      "1      1  alfa-romero  convertible        88.6   168.8        dohc   \n",
      "2      2  alfa-romero    hatchback        94.5   171.2        ohcv   \n",
      "3      3         audi        sedan       998.0   176.6        ofic   \n",
      "4      4         audi        sedan        99.4   176.6         onc   \n",
      "\n",
      "  num-of-cylinders  horsepower  average-mileage  price  \n",
      "0             four         111               21  13495  \n",
      "1             four         111               21  16500  \n",
      "2              six         154               19  16500  \n",
      "3             four         102               24  13950  \n",
      "4             five         115               18  17450  \n"
     ]
    }
   ],
   "source": [
    "automobile = pd.read_excel('filename.xlsx')\n",
    "print(automobile.head())"
   ]
  },
  {
   "cell_type": "code",
   "execution_count": 5,
   "id": "56af8d06",
   "metadata": {},
   "outputs": [
    {
     "name": "stdout",
     "output_type": "stream",
     "text": [
      "   index company body-style  wheel-base  length engine-type num-of-cylinders  \\\n",
      "3      3    audi      sedan       998.0   176.6        ofic             four   \n",
      "4      4    audi      sedan        99.4   176.6         onc             five   \n",
      "\n",
      "   horsepower  average-mileage  price  \n",
      "3         102               24  13950  \n",
      "4         115               18  17450  \n"
     ]
    }
   ],
   "source": [
    "# Use the tail() method to print the last two rows\n",
    "print(automobile.tail(2))"
   ]
  },
  {
   "cell_type": "code",
   "execution_count": 6,
   "id": "70579fdd",
   "metadata": {},
   "outputs": [
    {
     "name": "stdout",
     "output_type": "stream",
     "text": [
      "The most expensive car company is: audi\n"
     ]
    }
   ],
   "source": [
    "# Use the idxmax() method to find the index of the row with the maximum value in the 'price' column\n",
    "max_price_index = automobile['price'].idxmax()\n",
    "\n",
    "# Use the loc[] method to access the company name in that row\n",
    "most_expensive_company = automobile.loc[max_price_index, 'company']\n",
    "\n",
    "# Print the result\n",
    "print(\"The most expensive car company is:\", most_expensive_company)"
   ]
  },
  {
   "cell_type": "code",
   "execution_count": null,
   "id": "c17aa977",
   "metadata": {},
   "outputs": [],
   "source": []
  }
 ],
 "metadata": {
  "kernelspec": {
   "display_name": "Python 3 (ipykernel)",
   "language": "python",
   "name": "python3"
  },
  "language_info": {
   "codemirror_mode": {
    "name": "ipython",
    "version": 3
   },
   "file_extension": ".py",
   "mimetype": "text/x-python",
   "name": "python",
   "nbconvert_exporter": "python",
   "pygments_lexer": "ipython3",
   "version": "3.10.9"
  }
 },
 "nbformat": 4,
 "nbformat_minor": 5
}
